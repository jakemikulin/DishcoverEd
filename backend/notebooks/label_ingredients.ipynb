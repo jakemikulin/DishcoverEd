{
 "cells": [
  {
   "cell_type": "code",
   "execution_count": 2,
   "metadata": {},
   "outputs": [
    {
     "name": "stdout",
     "output_type": "stream",
     "text": [
      "                   title                                                NER  \\\n",
      "0    no-bake nut cookies  [bite size shredded rice biscuits, vanilla, br...   \n",
      "1  jewell ball's chicken  [cream of mushroom soup, beef, sour cream, chi...   \n",
      "2            creamy corn  [frozen corn, pepper, cream cheese, garlic pow...   \n",
      "3          chicken funny  [chicken gravy, cream of mushroom soup, chicke...   \n",
      "4   reeses cups(candy)    [graham cracker crumbs, powdered sugar, peanut...   \n",
      "\n",
      "                                          categories  \n",
      "0                   [Additive, Dairy, Bakery, Fruit]  \n",
      "1                              [Dairy, Meat, Fungus]  \n",
      "2              [Additive, Dairy, Herb, Spice, Maize]  \n",
      "3                              [Dairy, Meat, Fungus]  \n",
      "4  [Additive, Plant, Nuts & Seed, Dairy, Beverage...  \n"
     ]
    }
   ],
   "source": [
    "import pandas as pd\n",
    "import ast\n",
    "\n",
    "# Load the recipes file (accessing from parent directory)\n",
    "recipes_df = pd.read_csv('../recipes_with_labels.csv')\n",
    "\n",
    "# Load the ingredients labels file (accessing from parent directory)\n",
    "labels_df = pd.read_csv('../labels/ingredients.csv')\n",
    "\n",
    "# Convert NER column from string representation to actual lists\n",
    "recipes_df['NER'] = recipes_df['NER'].apply(ast.literal_eval)\n",
    "\n",
    "# Create a dictionary for ingredient synonyms and their categories\n",
    "ingredient_categories = {}\n",
    "for _, row in labels_df.iterrows():\n",
    "    synonyms = row['Ingredient Synonyms'].split('; ')\n",
    "    for synonym in synonyms:\n",
    "        ingredient_categories[synonym.lower()] = row['Category']\n",
    "    # Add the aliased ingredient name as well\n",
    "    ingredient_categories[row['Aliased Ingredient Name'].lower()] = row['Category']\n",
    "\n",
    "# Function to categorize ingredients in a recipe based on NER\n",
    "def categorize_ingredients(ner_list):\n",
    "    categories = set()\n",
    "    for ingredient in ner_list:\n",
    "        # Normalize the ingredient to lowercase for matching\n",
    "        normalized_ingredient = ingredient.lower()\n",
    "        for key in ingredient_categories:\n",
    "            # Skip if the category or key is 'dish' or 'cereal'\n",
    "            if key == 'dish' or key == 'cereal':\n",
    "                continue\n",
    "            if key in normalized_ingredient:\n",
    "                category = ingredient_categories[key]\n",
    "                if category.lower() != 'dish' and category.lower() != 'cereal':\n",
    "                    categories.add(category)\n",
    "    return list(categories)\n",
    "\n",
    "# Overwrite categories column with new values derived from NER\n",
    "recipes_df['categories'] = recipes_df['NER'].apply(categorize_ingredients)\n",
    "\n",
    "# Save the updated DataFrame to a new CSV file in parent directory\n",
    "recipes_df.to_csv('../recipes_with_labels.csv', index=False)\n",
    "\n",
    "# Display a sample of the updated DataFrame\n",
    "print(recipes_df[['title', 'NER', 'categories']].head())"
   ]
  }
 ],
 "metadata": {
  "kernelspec": {
   "display_name": "Python 3",
   "language": "python",
   "name": "python3"
  },
  "language_info": {
   "codemirror_mode": {
    "name": "ipython",
    "version": 3
   },
   "file_extension": ".py",
   "mimetype": "text/x-python",
   "name": "python",
   "nbconvert_exporter": "python",
   "pygments_lexer": "ipython3",
   "version": "3.10.11"
  }
 },
 "nbformat": 4,
 "nbformat_minor": 2
}
