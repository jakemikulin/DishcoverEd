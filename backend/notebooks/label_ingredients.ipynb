{
 "cells": [
  {
   "cell_type": "code",
   "execution_count": 3,
   "metadata": {},
   "outputs": [
    {
     "name": "stdout",
     "output_type": "stream",
     "text": [
      "                   title                                        ingredients  \\\n",
      "0    no-bake nut cookies  [1 c. firmly packed brown sugar, 1/2 c. evapor...   \n",
      "1  jewell ball's chicken  [1 small jar chipped beef, cut up, 4 boned chi...   \n",
      "2            creamy corn  [2 (16 oz.) pkg. frozen corn, 1 (8 oz.) pkg. c...   \n",
      "3          chicken funny  [1 large whole chicken, 2 (10 1/2 oz.) cans ch...   \n",
      "4   reeses cups(candy)    [1 c. peanut butter, 3/4 c. graham cracker cru...   \n",
      "\n",
      "                                          categories  \n",
      "0  [Essential Oil, Bakery, Dairy, Fruit, Additive...  \n",
      "1                              [Dairy, Meat, Fungus]  \n",
      "2              [Herb, Maize, Spice, Dairy, Additive]  \n",
      "3                    [Dairy, Meat, Additive, Fungus]  \n",
      "4  [Beverage Alcoholic, Meat, Legume, Dairy, Plan...  \n"
     ]
    }
   ],
   "source": [
    "import pandas as pd\n",
    "import ast\n",
    "\n",
    "# Load the recipes file\n",
    "recipes_df = pd.read_csv('recipes_with_cuisine.csv')\n",
    "\n",
    "# Load the ingredients labels file\n",
    "labels_df = pd.read_csv('labels/ingredients.csv')\n",
    "\n",
    "# Convert ingredients from string representation to actual lists\n",
    "recipes_df['ingredients'] = recipes_df['ingredients'].apply(ast.literal_eval)\n",
    "\n",
    "# Create a dictionary for ingredient synonyms and their categories\n",
    "ingredient_categories = {}\n",
    "for _, row in labels_df.iterrows():\n",
    "    synonyms = row['Ingredient Synonyms'].split('; ')\n",
    "    for synonym in synonyms:\n",
    "        ingredient_categories[synonym.lower()] = row['Category']\n",
    "    # Add the aliased ingredient name as well\n",
    "    ingredient_categories[row['Aliased Ingredient Name'].lower()] = row['Category']\n",
    "\n",
    "# Function to categorize ingredients in a recipe\n",
    "def categorize_ingredients(ingredient_list):\n",
    "    categories = set()\n",
    "    for ingredient in ingredient_list:\n",
    "        # Normalize the ingredient to lowercase for matching\n",
    "        normalized_ingredient = ingredient.lower()\n",
    "        for key in ingredient_categories:\n",
    "            # Skip if the category or key is 'dish'\n",
    "            if key == 'dish' or key == 'cereal':\n",
    "                continue\n",
    "            if key in normalized_ingredient:\n",
    "                category = ingredient_categories[key]\n",
    "                if category.lower() != 'dish' and category.lower() != 'cereal':\n",
    "                    categories.add(category)\n",
    "    return list(categories)\n",
    "\n",
    "# Apply categorization to each recipe's ingredients\n",
    "recipes_df['categories'] = recipes_df['ingredients'].apply(categorize_ingredients)\n",
    "\n",
    "# Save the updated DataFrame to a new CSV file\n",
    "recipes_df.to_csv('recipes_with_unique_categories.csv', index=False)\n",
    "\n",
    "# Display a sample of the updated DataFrame\n",
    "print(recipes_df[['title', 'ingredients', 'categories']].head())"
   ]
  }
 ],
 "metadata": {
  "kernelspec": {
   "display_name": "Python 3",
   "language": "python",
   "name": "python3"
  },
  "language_info": {
   "codemirror_mode": {
    "name": "ipython",
    "version": 3
   },
   "file_extension": ".py",
   "mimetype": "text/x-python",
   "name": "python",
   "nbconvert_exporter": "python",
   "pygments_lexer": "ipython3",
   "version": "3.10.11"
  }
 },
 "nbformat": 4,
 "nbformat_minor": 2
}
