{
 "cells": [
  {
   "cell_type": "markdown",
   "metadata": {},
   "source": [
    "# Classify recipe cuisines"
   ]
  },
  {
   "cell_type": "markdown",
   "metadata": {},
   "source": [
    "Label dish cuisines from backend/recipes_data.csv according to the dish title.\n",
    "\n",
    "Retrieve training data from backend/cuisine_to_titles.json.\n",
    "\n",
    "Training data source: https://cosylab.iiitd.edu.in/culinarydb/"
   ]
  },
  {
   "cell_type": "code",
   "execution_count": 1,
   "metadata": {},
   "outputs": [],
   "source": [
    "import pandas as pd\n",
    "import json\n",
    "import numpy as np\n",
    "from sklearn.model_selection import train_test_split\n",
    "from sklearn.feature_extraction.text import TfidfVectorizer\n",
    "from sklearn.linear_model import LogisticRegression\n",
    "from sklearn.metrics import accuracy_score, classification_report\n",
    "import joblib"
   ]
  },
  {
   "cell_type": "markdown",
   "metadata": {},
   "source": [
    "# Train ML model"
   ]
  },
  {
   "cell_type": "code",
   "execution_count": null,
   "metadata": {},
   "outputs": [
    {
     "name": "stdout",
     "output_type": "stream",
     "text": [
      "Model Accuracy: 0.7152375750955762\n",
      "Classification Report:\n",
      "                      precision    recall  f1-score   support\n",
      "\n",
      "             Africa       0.83      0.48      0.61       141\n",
      "     Australia & NZ       0.83      0.05      0.10        97\n",
      "      British Isles       0.87      0.42      0.57       222\n",
      "             Canada       0.82      0.07      0.14       240\n",
      "          Caribbean       0.82      0.54      0.65       228\n",
      "              China       0.78      0.57      0.66       173\n",
      "     DACH Countries       0.88      0.40      0.55        92\n",
      "     Eastern Europe       0.89      0.49      0.63       132\n",
      "             France       0.77      0.51      0.61       535\n",
      "             Greece       0.81      0.61      0.69       170\n",
      "Indian Subcontinent       0.86      0.78      0.82       776\n",
      "              Italy       0.83      0.79      0.81      1521\n",
      "              Japan       0.84      0.45      0.59       119\n",
      "              Korea       1.00      0.62      0.76        60\n",
      "             Mexico       0.81      0.72      0.76       623\n",
      "        Middle East       0.85      0.48      0.61       200\n",
      "     Misc.: Belgian       0.00      0.00      0.00         5\n",
      "       Misc.: Dutch       1.00      0.10      0.18        10\n",
      "    Misc.: Portugal       0.89      0.64      0.74        25\n",
      "        Scandinavia       0.92      0.47      0.62        70\n",
      "      South America       0.97      0.53      0.68        57\n",
      "    South East Asia       0.91      0.45      0.60       134\n",
      "              Spain       0.82      0.51      0.63       162\n",
      "           Thailand       0.89      0.61      0.72       126\n",
      "                USA       0.61      0.90      0.73      3237\n",
      "\n",
      "           accuracy                           0.72      9155\n",
      "          macro avg       0.82      0.49      0.58      9155\n",
      "       weighted avg       0.75      0.72      0.70      9155\n",
      "\n",
      "Model and vectorizer saved!\n"
     ]
    },
    {
     "name": "stderr",
     "output_type": "stream",
     "text": [
      "C:\\Users\\nikit\\AppData\\Local\\Packages\\PythonSoftwareFoundation.Python.3.10_qbz5n2kfra8p0\\LocalCache\\local-packages\\Python310\\site-packages\\sklearn\\metrics\\_classification.py:1531: UndefinedMetricWarning: Precision is ill-defined and being set to 0.0 in labels with no predicted samples. Use `zero_division` parameter to control this behavior.\n",
      "  _warn_prf(average, modifier, f\"{metric.capitalize()} is\", len(result))\n",
      "C:\\Users\\nikit\\AppData\\Local\\Packages\\PythonSoftwareFoundation.Python.3.10_qbz5n2kfra8p0\\LocalCache\\local-packages\\Python310\\site-packages\\sklearn\\metrics\\_classification.py:1531: UndefinedMetricWarning: Precision is ill-defined and being set to 0.0 in labels with no predicted samples. Use `zero_division` parameter to control this behavior.\n",
      "  _warn_prf(average, modifier, f\"{metric.capitalize()} is\", len(result))\n",
      "C:\\Users\\nikit\\AppData\\Local\\Packages\\PythonSoftwareFoundation.Python.3.10_qbz5n2kfra8p0\\LocalCache\\local-packages\\Python310\\site-packages\\sklearn\\metrics\\_classification.py:1531: UndefinedMetricWarning: Precision is ill-defined and being set to 0.0 in labels with no predicted samples. Use `zero_division` parameter to control this behavior.\n",
      "  _warn_prf(average, modifier, f\"{metric.capitalize()} is\", len(result))\n"
     ]
    }
   ],
   "source": [
    "# Load training data from JSON\n",
    "with open(\"labels/cuisine_to_titles.json\", \"r\") as f:\n",
    "    cuisine_mapping = json.load(f)\n",
    "\n",
    "# Convert JSON to DataFrame\n",
    "train_data = []\n",
    "for cuisine, titles in cuisine_mapping.items():\n",
    "    for title in titles:\n",
    "        train_data.append({\"Title\": title, \"Cuisine\": cuisine})\n",
    "\n",
    "df_train = pd.DataFrame(train_data)\n",
    "\n",
    "# Preprocess: Convert to lowercase\n",
    "df_train[\"Title\"] = df_train[\"Title\"].str.lower()\n",
    "\n",
    "# Train-test split\n",
    "X_train, X_test, y_train, y_test = train_test_split(df_train[\"Title\"], df_train[\"Cuisine\"], test_size=0.2, random_state=42)\n",
    "\n",
    "# Convert titles to numerical features using TF-IDF\n",
    "vectorizer = TfidfVectorizer(max_features=5000, stop_words=\"english\")  \n",
    "X_train_tfidf = vectorizer.fit_transform(X_train)\n",
    "X_test_tfidf = vectorizer.transform(X_test)\n",
    "\n",
    "# Train a Logistic Regression model\n",
    "model = LogisticRegression(max_iter=1000)\n",
    "model.fit(X_train_tfidf, y_train)\n",
    "\n",
    "# Predict on test data\n",
    "y_pred = model.predict(X_test_tfidf)\n",
    "\n",
    "# Evaluate the model\n",
    "print(\"Model Accuracy:\", accuracy_score(y_test, y_pred))\n",
    "print(\"Classification Report:\\n\", classification_report(y_test, y_pred))\n",
    "\n",
    "# Save model and vectorizer for future classification\n",
    "joblib.dump(model, \"models/cuisine_model.pkl\")\n",
    "joblib.dump(vectorizer, \"models/tfidf_vectorizer.pkl\")\n",
    "print(\"Model and vectorizer saved!\")"
   ]
  },
  {
   "cell_type": "markdown",
   "metadata": {},
   "source": [
    "# Classify new data"
   ]
  },
  {
   "cell_type": "code",
   "execution_count": 7,
   "metadata": {},
   "outputs": [
    {
     "name": "stdout",
     "output_type": "stream",
     "text": [
      "Index(['title', 'ingredients', 'directions', 'link', 'source', 'NER', 'site'], dtype='object')\n"
     ]
    }
   ],
   "source": [
    "# Load only the first 5000 rows of recipes_data.csv for classification\n",
    "df_new = pd.read_csv(\"recipes_data.csv\", nrows=5000)\n",
    "# Print the column names\n",
    "print(df_new.columns)"
   ]
  },
  {
   "cell_type": "code",
   "execution_count": 10,
   "metadata": {},
   "outputs": [
    {
     "name": "stdout",
     "output_type": "stream",
     "text": [
      "Classified data saved to backend/recipes_with_cuisine.csv!\n"
     ]
    }
   ],
   "source": [
    "# Preprocess: Convert title column to lowercase\n",
    "df_new[\"title\"] = df_new[\"title\"].str.lower()\n",
    "\n",
    "# Load the saved model & vectorizer\n",
    "model = joblib.load(\"models/cuisine_model.pkl\")\n",
    "vectorizer = joblib.load(\"models/tfidf_vectorizer.pkl\")\n",
    "\n",
    "# Transform new data\n",
    "X_new_tfidf = vectorizer.transform(df_new[\"title\"])\n",
    "\n",
    "# Predict cuisines\n",
    "df_new[\"Predicted_Cuisine\"] = model.predict(X_new_tfidf)\n",
    "\n",
    "# Save results\n",
    "df_new.to_csv(\"recipes_with_cuisine.csv\", index=False)\n",
    "print(\"Classified data saved to recipes_with_cuisine.csv!\")"
   ]
  }
 ],
 "metadata": {
  "kernelspec": {
   "display_name": "Python 3",
   "language": "python",
   "name": "python3"
  },
  "language_info": {
   "codemirror_mode": {
    "name": "ipython",
    "version": 3
   },
   "file_extension": ".py",
   "mimetype": "text/x-python",
   "name": "python",
   "nbconvert_exporter": "python",
   "pygments_lexer": "ipython3",
   "version": "3.10.11"
  }
 },
 "nbformat": 4,
 "nbformat_minor": 2
}
