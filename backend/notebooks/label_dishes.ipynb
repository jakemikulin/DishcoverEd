{
 "cells": [
  {
   "cell_type": "markdown",
   "metadata": {},
   "source": [
    "# Classify recipe ingredients to cuisines"
   ]
  },
  {
   "cell_type": "markdown",
   "metadata": {},
   "source": [
    "Dataset from https://www.kaggle.com/competitions/whats-cooking/\n",
    "\n",
    "Solution based on https://www.kaggle.com/code/dipayan/whatscooking-python"
   ]
  },
  {
   "cell_type": "code",
   "execution_count": 1,
   "metadata": {},
   "outputs": [],
   "source": [
    "from pandas import Series, DataFrame\n",
    "import pandas as pd\n",
    "import numpy as np\n",
    "import nltk\n",
    "import re\n",
    "from nltk.stem import WordNetLemmatizer\n",
    "from sklearn.svm import LinearSVC\n",
    "from sklearn.metrics import classification_report\n",
    "import sklearn.metrics\n",
    "from sklearn.feature_extraction.text import TfidfVectorizer\n",
    "from sklearn.model_selection import GridSearchCV\n",
    "from sklearn.linear_model import LogisticRegression\n",
    "import ast"
   ]
  },
  {
   "cell_type": "code",
   "execution_count": 14,
   "metadata": {},
   "outputs": [
    {
     "name": "stderr",
     "output_type": "stream",
     "text": [
      "[nltk_data] Downloading package wordnet to\n",
      "[nltk_data]     C:\\Users\\nikit\\AppData\\Roaming\\nltk_data...\n",
      "[nltk_data]   Package wordnet is already up-to-date!\n"
     ]
    },
    {
     "data": {
      "text/plain": [
       "True"
      ]
     },
     "execution_count": 14,
     "metadata": {},
     "output_type": "execute_result"
    }
   ],
   "source": [
    "import nltk\n",
    "nltk.download('wordnet')"
   ]
  },
  {
   "cell_type": "code",
   "execution_count": 15,
   "metadata": {},
   "outputs": [],
   "source": [
    "# A combination of Word lemmatization + LinearSVC model finally pushes the accuracy score past 80%\n",
    "\n",
    "traindf = pd.read_json(\"../labels/train.json\")\n",
    "traindf['ingredients_clean_string'] = [' , '.join(z).strip() for z in traindf['ingredients']]  \n",
    "traindf['ingredients_string'] = [' '.join([WordNetLemmatizer().lemmatize(re.sub('[^A-Za-z]', ' ', line)) for line in lists]).strip() for lists in traindf['ingredients']]       \n",
    "\n",
    "testdf = pd.read_json(\"../labels/test.json\") \n",
    "testdf['ingredients_clean_string'] = [' , '.join(z).strip() for z in testdf['ingredients']]\n",
    "testdf['ingredients_string'] = [' '.join([WordNetLemmatizer().lemmatize(re.sub('[^A-Za-z]', ' ', line)) for line in lists]).strip() for lists in testdf['ingredients']]       "
   ]
  },
  {
   "cell_type": "code",
   "execution_count": null,
   "metadata": {},
   "outputs": [],
   "source": [
    "# Vectorize training data\n",
    "corpustr = traindf['ingredients_string']\n",
    "vectorizertr = TfidfVectorizer(stop_words='english',\n",
    "                               ngram_range=(1, 1), analyzer=\"word\",\n",
    "                               max_df=0.57, binary=False,\n",
    "                               token_pattern=r'\\w+', sublinear_tf=False)\n",
    "tfidftr = vectorizertr.fit_transform(corpustr)  # Keep sparse\n",
    "\n",
    "# Vectorize test data\n",
    "corpusts = testdf['ingredients_string']\n",
    "tfidfts = vectorizertr.transform(corpusts)  # Keep sparse\n",
    "\n",
    "predictors_tr = tfidftr\n",
    "predictors_ts = tfidfts\n",
    "targets_tr = traindf['cuisine']\n",
    "\n",
    "# Train logistic regression model\n",
    "clf = LogisticRegression(max_iter=1000)  # Increase iterations\n",
    "clf.fit(predictors_tr, targets_tr)  # No scaling needed\n",
    "\n",
    "# Predict on test set\n",
    "predictions = clf.predict(predictors_ts)"
   ]
  },
  {
   "cell_type": "code",
   "execution_count": null,
   "metadata": {},
   "outputs": [],
   "source": [
    "# testdf['cuisine'] = predictions\n",
    "# testdf = testdf.sort_values('id' , ascending=True)\n",
    "\n",
    "# testdf[['id' , 'ingredients_clean_string' , 'cuisine' ]].to_csv(\"submission.csv\")"
   ]
  },
  {
   "cell_type": "markdown",
   "metadata": {},
   "source": [
    "# Classify Recipes dataset"
   ]
  },
  {
   "cell_type": "code",
   "execution_count": 26,
   "metadata": {},
   "outputs": [
    {
     "name": "stdout",
     "output_type": "stream",
     "text": [
      "Updated dataset saved as recipes_with_predicted_cuisines.csv\n"
     ]
    }
   ],
   "source": [
    "# Load dataset\n",
    "df = pd.read_csv(\"../recipes_with_labels.csv\")\n",
    "\n",
    "# Ensure NER column is properly formatted as lists\n",
    "df['NER'] = df['NER'].apply(ast.literal_eval)\n",
    "\n",
    "# Convert the NER list to a string for classification\n",
    "ingredients_text = df['NER'].apply(lambda x: ' '.join(x))\n",
    "\n",
    "# Vectorize using the same vectorizer from training\n",
    "tfidfts_new = vectorizertr.transform(ingredients_text)\n",
    "\n",
    "# Predict cuisines\n",
    "df['cuisine'] = clf.predict(tfidfts_new)\n",
    "\n",
    "# Save updated DataFrame without adding a new column\n",
    "df.to_csv(\"recipes_with_predicted_cuisines.csv\", index=False)\n",
    "\n",
    "print(\"Updated dataset saved as recipes_with_predicted_cuisines.csv\")"
   ]
  }
 ],
 "metadata": {
  "kernelspec": {
   "display_name": "Python 3",
   "language": "python",
   "name": "python3"
  },
  "language_info": {
   "codemirror_mode": {
    "name": "ipython",
    "version": 3
   },
   "file_extension": ".py",
   "mimetype": "text/x-python",
   "name": "python",
   "nbconvert_exporter": "python",
   "pygments_lexer": "ipython3",
   "version": "3.10.11"
  }
 },
 "nbformat": 4,
 "nbformat_minor": 2
}
